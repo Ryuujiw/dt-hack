{
 "cells": [
  {
   "cell_type": "code",
   "execution_count": 14,
   "id": "9afaa0db-6c39-4094-9870-7c1163cea86c",
   "metadata": {},
   "outputs": [],
   "source": [
    "import osmnx as ox\n",
    "\n",
    "place = \"Kuala Lumpur, Malaysia\"\n",
    "G = ox.graph_from_place(place, network_type='drive')"
   ]
  },
  {
   "cell_type": "code",
   "execution_count": 18,
   "id": "b20437f6-503e-4f3b-959d-47ff0820cb84",
   "metadata": {},
   "outputs": [],
   "source": [
    "edges = ox.graph_to_gdfs(G, nodes=False, edges=True)"
   ]
  },
  {
   "cell_type": "code",
   "execution_count": 21,
   "id": "08403e4e-a165-4700-b316-1bc8691fd9cf",
   "metadata": {},
   "outputs": [],
   "source": [
    "from shapely.geometry import LineString\n",
    "import geopandas as gpd\n",
    "\n",
    "def interpolate_points(line: LineString, spacing: float):\n",
    "    length = line.length\n",
    "    num_points = int(length // spacing)\n",
    "    return [line.interpolate(distance) for distance in range(0, int(length), int(spacing))]\n",
    "\n",
    "spacing = 15  # meters\n",
    "sample_points = []\n",
    "\n",
    "for geom in edges.geometry:\n",
    "    if isinstance(geom, LineString):\n",
    "        sample_points.extend(interpolate_points(geom, spacing))\n",
    "    elif geom.geom_type == 'MultiLineString':\n",
    "        for line in geom:\n",
    "            sample_points.extend(interpolate_points(line, spacing))\n"
   ]
  },
  {
   "cell_type": "code",
   "execution_count": 25,
   "id": "4aaec3a3-4f75-4ca7-b89b-a71929021025",
   "metadata": {},
   "outputs": [],
   "source": [
    "points_gdf = gpd.GeoDataFrame(geometry=sample_points, crs=edges.crs)"
   ]
  },
  {
   "cell_type": "code",
   "execution_count": 23,
   "id": "3f06806f-4303-4301-8d87-5dacf214c307",
   "metadata": {},
   "outputs": [],
   "source": [
    "points_gdf = points_gdf.to_crs(epsg=4326)"
   ]
  },
  {
   "cell_type": "code",
   "execution_count": 26,
   "id": "d820ace8-51a5-4c46-87a9-e05df56c85a9",
   "metadata": {},
   "outputs": [
    {
     "name": "stdout",
     "output_type": "stream",
     "text": [
      "Empty GeoDataFrame\n",
      "Columns: [geometry]\n",
      "Index: []\n"
     ]
    }
   ],
   "source": [
    "print(points_gdf)"
   ]
  }
 ],
 "metadata": {
  "kernelspec": {
   "display_name": "Python 3 (ipykernel)",
   "language": "python",
   "name": "python3"
  },
  "language_info": {
   "codemirror_mode": {
    "name": "ipython",
    "version": 3
   },
   "file_extension": ".py",
   "mimetype": "text/x-python",
   "name": "python",
   "nbconvert_exporter": "python",
   "pygments_lexer": "ipython3",
   "version": "3.11.6"
  }
 },
 "nbformat": 4,
 "nbformat_minor": 5
}
